{
 "cells": [
  {
   "cell_type": "markdown",
   "id": "60c01590-d251-43ae-8c51-8ad25f354992",
   "metadata": {},
   "source": [
    "# Initializing the code and models"
   ]
  },
  {
   "cell_type": "code",
   "execution_count": 1,
   "id": "e14bb753-c61a-4b7f-a958-9baca9c65539",
   "metadata": {},
   "outputs": [],
   "source": [
    "import os\n",
    "import pandas as pd\n",
    "import numpy as np\n",
    "import vertexai\n",
    "import json\n",
    "import requests\n",
    "import time\n",
    "\n",
    "from numpy.linalg import norm\n",
    "\n",
    "from nltk.translate.bleu_score import sentence_bleu\n",
    "\n",
    "from openai import AzureOpenAI\n",
    "from langchain_openai import AzureChatOpenAI, AzureOpenAIEmbeddings\n",
    "\n",
    "from google.cloud import aiplatform\n",
    "from google.oauth2 import service_account\n",
    "from vertexai.generative_models import GenerativeModel\n",
    "from vertexai.preview.language_models import TextEmbeddingModel\n",
    "\n",
    "from langchain_google_vertexai import VertexAI, ChatVertexAI\n",
    "\n",
    "from langchain.tools import tool\n",
    "from langchain.pydantic_v1 import BaseModel, Field\n",
    "from langchain.agents import create_openai_tools_agent, AgentExecutor\n",
    "from langchain.agents.tool_calling_agent.base import create_tool_calling_agent\n",
    "from langchain_core.prompts import ChatPromptTemplate, MessagesPlaceholder\n",
    "from langchain_core.messages import HumanMessage"
   ]
  },
  {
   "cell_type": "code",
   "execution_count": 2,
   "id": "1cfe52ed-b358-4547-aebd-dc1fbafe9cff",
   "metadata": {},
   "outputs": [],
   "source": [
    "os.environ[\"AZURE_OPENAI_API_KEY\"] = \"api-key\"\n",
    "os.environ[\"AZURE_OPENAI_ENDPOINT\"] = \"https:...\""
   ]
  },
  {
   "cell_type": "code",
   "execution_count": 3,
   "id": "fbd27b75-7169-479d-be8c-1122b0d0e4df",
   "metadata": {},
   "outputs": [],
   "source": [
    "credentials = service_account.Credentials.from_service_account_file('service_account_path')\n",
    "\n",
    "aiplatform.init(project = 'project-id',\n",
    "                credentials = credentials)\n",
    "\n",
    "vertexai.init(project=\"project-id\", location=\"us-central1\")"
   ]
  },
  {
   "cell_type": "markdown",
   "id": "3bd69e49-4e2d-4c6c-97b5-2f048da72376",
   "metadata": {},
   "source": [
    "# Getting the data to compare"
   ]
  },
  {
   "cell_type": "code",
   "execution_count": 4,
   "id": "35fff029-a841-49e3-b237-1ee3014d8315",
   "metadata": {},
   "outputs": [],
   "source": [
    "# Load the data for testing\n",
    "doc_1_path = \"Data/2024_03_04_Summary_test_case_01_27_Mar_2024.xlsx\"\n",
    "doc_2_path = \"Data/2024_03_04_Summary_test_case_02_27_March_2024.xlsx\"\n",
    "\n",
    "doc_1 = pd.read_excel(doc_1_path)\n",
    "doc_2 = pd.read_excel(doc_2_path)\n",
    "\n",
    "d1_v1 = doc_1.iloc[:, 0]\n",
    "d1_v2 = doc_1.iloc[:, 1]\n",
    "d2_v1 = doc_2.iloc[:, 0]\n",
    "d2_v2 = doc_2.iloc[:, 1]"
   ]
  },
  {
   "cell_type": "code",
   "execution_count": 139,
   "id": "e1a635fb-107f-4cd5-a0e4-a6456f62134d",
   "metadata": {},
   "outputs": [],
   "source": [
    "v1 = \"\"\"Pharmacovigilance is defined by the World Health Organization as the science and activity related to detecting, assessing, understanding and preventing adverse effects and other medicine-related problems.\n",
    "The Therapeutic Goods Administration (TGA) collects and evaluates information related to the benefit-risk balance of medicines in Australia to monitor their safety and, where necessary, take appropriate action.\n",
    "This guidance sets out the pharmacovigilance responsibilities of sponsors of medicines included on the Australian Register of Therapeutic Goods (ARTG) and regulated by the TGA.\n",
    "It outlines the mandatory reporting requirements and offers recommendations on pharmacovigilance best practice. In this guidance, we use `must` or `required` to describe something you are legally obliged to do.\n",
    "We use `should` to recommend an action that will assist you to meet your legal requirements. We refer to the TGA as `we` or `us`, and to sponsors as `you`.\"\"\"\n",
    "\n",
    "v2 = \"\"\"Pharmacovigilance is defined by the World Health Organization as the science and activities related to detecting, assessing, understanding and preventing adverse effects and other medicine-related problems.\n",
    "The Therapeutic Goods Administration (TGA) collects and evaluates information related to the benefit-risk balance of medicines in Australia to monitor their safety and, where necessary, take appropriate action.\n",
    "This guidance sets out the pharmacovigilance responsibilities of sponsors of medicines included on the Australian Register of Therapeutic Goods (ARTG) and regulated by the TGA.\n",
    "It outlines the mandatory reporting requirements and offers recommendations on pharmacovigilance best practice. In this guidance we use `must` or `required` to describe something you are legally obliged to do.\n",
    "We use `should` to recommend an action that will assist you to meet your legal requirements. We reger to the TGA as `we` or `us`, and to sponsors as `you`.\"\"\""
   ]
  },
  {
   "cell_type": "markdown",
   "id": "acc6b49b-16e6-479e-b987-b2e50680d0e1",
   "metadata": {},
   "source": [
    "# Base results (prompt used to get ground-truth version)"
   ]
  },
  {
   "cell_type": "code",
   "execution_count": 4,
   "id": "a0301b16-e654-4674-9838-1e593b677f92",
   "metadata": {},
   "outputs": [],
   "source": [
    "prompt_base = f'''Role : As a reviewer of safety and regulatory documents, your responsibility is to compare two versions of a document and identify actionable, noticeable, impactful updates or changes between them.\n",
    "Instruction:\n",
    "1. Tag first document {v1}  as V1  and Second document {v2} as V2.\n",
    "2. Read the content of the sections from V1 and compare with the similar section from V2.\n",
    "3. Identify actionable, noticeable, impactful updates or changes.\n",
    "4. Create a precise summary points of identified changes.\n",
    "Rule : If the identified changes/updates between V1 and V2 are very subtle and don't lead to any noticeable or actionable items, then ignore those changes/updates and don’t include them as part of the summary.\n",
    "Format: output should be in the form of bullet points only.'''"
   ]
  },
  {
   "cell_type": "code",
   "execution_count": 5,
   "id": "1ee05a45-3d40-4bed-be83-cb4291c3dbb9",
   "metadata": {},
   "outputs": [
    {
     "name": "stdout",
     "output_type": "stream",
     "text": [
      "- Both V1 and V2 have the same content and structure.\n",
      "- No noticeable or impactful updates or changes were identified between V1 and V2.\n"
     ]
    }
   ],
   "source": [
    "ans_base = azureOpenAI.chat.completions.create(model=\"gpt-35-turbo-16k\", \n",
    "                                               messages=[{\"role\": \"user\", \"content\": prompt_base}])\n",
    "generated_text = ans_base.choices[0].message.content\n",
    "print(generated_text)"
   ]
  },
  {
   "cell_type": "markdown",
   "id": "476c9311-0adb-4ee6-831b-e3635be1e965",
   "metadata": {},
   "source": [
    "# Single Agent\n",
    "\n",
    "One single agent is in charge of getting the BLEU score, cosine similarity, and getting the list of differences between two versions."
   ]
  },
  {
   "cell_type": "markdown",
   "id": "808378fb-570d-4aa0-9b4a-2cce562849ce",
   "metadata": {},
   "source": [
    "## Creating the tools"
   ]
  },
  {
   "cell_type": "code",
   "execution_count": 11,
   "id": "02ff96ce-48b4-49a5-8b15-f269e53c035a",
   "metadata": {},
   "outputs": [],
   "source": [
    "@tool\n",
    "def get_bleu_score(v1:str, v2:str) -> float:\n",
    "    \"\"\"Returns the BLEU score between two texts\"\"\"\n",
    "    weights = (0.30, 0.25, 0.25, 0.20)\n",
    "\n",
    "    bleu = sentence_bleu([v1], v2, weights)\n",
    "    return round(bleu, 4)"
   ]
  },
  {
   "cell_type": "code",
   "execution_count": 12,
   "id": "79fb9433-e90c-457a-a594-e532feb9c4ad",
   "metadata": {},
   "outputs": [],
   "source": [
    "@tool\n",
    "def get_cosine_similarity_oai(v1:str, v2:str) -> float:\n",
    "    \"\"\"Returns the cosine similarity between two texts\"\"\"\n",
    "    embeddings = AzureOpenAIEmbeddings(azure_deployment=\"text-embedding-3-small\",\n",
    "                                       openai_api_version=\"2023-05-15\")\n",
    "\n",
    "    emb_1, emb_2 = embeddings.embed_documents([v1, v2])\n",
    "    \n",
    "    cosine = np.dot(emb_1, emb_2) / (norm(emb_1) * norm(emb_2))\n",
    "\n",
    "    return round(cosine, 4)"
   ]
  },
  {
   "cell_type": "code",
   "execution_count": 13,
   "id": "5b7f7f00-d8c2-4bc2-9c15-dd0779cba3a2",
   "metadata": {},
   "outputs": [],
   "source": [
    "@tool\n",
    "def get_cosine_similarity_gcp(v1:str, v2:str) -> float:\n",
    "    \"\"\"Returns the cosine similarity between two texts\"\"\"\n",
    "    embeddings = TextEmbeddingModel.from_pretrained(\"textembedding-gecko\")\n",
    "\n",
    "    emb_1, emb_2 = embeddings.get_embeddings([v1, v2])\n",
    "    \n",
    "    cosine = np.dot(emb_1.values, emb_2.values) / (norm(emb_1.values) * norm(emb_2.values))\n",
    "\n",
    "    return round(cosine, 4)"
   ]
  },
  {
   "cell_type": "code",
   "execution_count": 14,
   "id": "b7e8238b-48b9-4895-804d-1c889c865539",
   "metadata": {},
   "outputs": [],
   "source": [
    "tools_oai = [get_bleu_score, get_cosine_similarity_oai]\n",
    "tools_gcp = [get_bleu_score, get_cosine_similarity_gcp]"
   ]
  },
  {
   "cell_type": "markdown",
   "id": "051ca1cd-a051-46fa-baee-6548106abcd6",
   "metadata": {},
   "source": [
    "## Building the prompt"
   ]
  },
  {
   "cell_type": "code",
   "execution_count": 5,
   "id": "b7fcc958-aada-4ed6-8b4e-719b188c531e",
   "metadata": {},
   "outputs": [],
   "source": [
    "instructions = \"\"\"\"You are a reviewer of safety and regulatory documents. Your responsibility is to compare two versions of a document and identify any impactful and noticeable changes between them.\n",
    "Instructions:\n",
    "1. Give me a list of bullet points with all the differences between Version_1 and Version_2.\n",
    "    1.1. SUMMARIZE the most important changes between Version_1 and Version_2.\n",
    "    1.2. Be as thorough as possible with explaining the differences in the redaction between Version_1 and Version_2.\n",
    "    1.3. Compare the redaction between Version_1 and Version_2 ON THE SAME BULLET POINT.\n",
    "    1.4. Do NOT write the whole text, just the important changes between Version_1 and Version_2.\n",
    "    1.5. Give me ONLY the bullet points.\"\"\""
   ]
  },
  {
   "cell_type": "markdown",
   "id": "467381bd-1618-4876-b402-f6b38702f44a",
   "metadata": {},
   "source": [
    "## OpenAI LLM"
   ]
  },
  {
   "cell_type": "code",
   "execution_count": 6,
   "id": "bff83d0d-95a6-4dfc-8e3a-f00a65f5cccd",
   "metadata": {},
   "outputs": [],
   "source": [
    "llm_oai = AzureChatOpenAI(openai_api_version = \"2023-05-15\",\n",
    "                          model_name = \"gpt-35-turbo-16k\",\n",
    "                          temperature = 0)"
   ]
  },
  {
   "cell_type": "markdown",
   "id": "404fc24e-2b7d-435d-8216-0a3d73be5bc1",
   "metadata": {},
   "source": [
    "## GCP GenAI LLMs"
   ]
  },
  {
   "cell_type": "markdown",
   "id": "82a85447-337c-496b-8353-7492fbd20525",
   "metadata": {},
   "source": [
    "### Gemini"
   ]
  },
  {
   "cell_type": "code",
   "execution_count": 7,
   "id": "310aa344-cd8f-486e-9f76-d27ddf1ce22b",
   "metadata": {},
   "outputs": [],
   "source": [
    "llm_gemini = ChatVertexAI(model_name = 'gemini-1.0-pro-002',\n",
    "                          max_output_tokens = 4000,\n",
    "                          temperature = 0)"
   ]
  },
  {
   "cell_type": "code",
   "execution_count": 8,
   "id": "9849c041-0254-40aa-8cf8-0d6b5fc3d206",
   "metadata": {},
   "outputs": [],
   "source": [
    "llm_gemini_15 = ChatVertexAI(model_name = \"gemini-1.5-pro-preview-0409\",\n",
    "                             max_output_tokens = 4000,\n",
    "                             temperature = 0)"
   ]
  },
  {
   "cell_type": "markdown",
   "id": "b152310f-b96a-49ff-ae5c-a9eb79aa3545",
   "metadata": {},
   "source": [
    "### MedLM"
   ]
  },
  {
   "cell_type": "code",
   "execution_count": 9,
   "id": "c3664e79-ea9b-49cb-a1a4-fe59bf8df3d3",
   "metadata": {},
   "outputs": [],
   "source": [
    "llm_medlm = VertexAI(model_name = 'medlm-medium',\n",
    "                     max_output_tokens = 4000,\n",
    "                     temperature = 0)"
   ]
  },
  {
   "cell_type": "markdown",
   "id": "a4a89502-ac2b-4c91-ad7a-ae48f1d7c6ce",
   "metadata": {},
   "source": [
    "### PaLM-2"
   ]
  },
  {
   "cell_type": "code",
   "execution_count": 10,
   "id": "8dcfd580-b851-4c33-8514-3e7f188c005c",
   "metadata": {},
   "outputs": [],
   "source": [
    "llm_palm = VertexAI(model_name = 'text-bison-32k@002',\n",
    "                    max_output_tokens = 4000,\n",
    "                    temperature = 0)"
   ]
  },
  {
   "cell_type": "markdown",
   "id": "5992f54a-9ed1-40a9-8517-e28b9d53b778",
   "metadata": {},
   "source": [
    "## Test with one single pair of texts\n",
    "\n",
    "Test with one pair of text versions."
   ]
  },
  {
   "cell_type": "code",
   "execution_count": 8,
   "id": "c97be8a2-1246-4861-bdb3-5b2b03ca4cce",
   "metadata": {},
   "outputs": [],
   "source": [
    "v1 = \"\"\"If the MAH classes a signal as a signal with a serious risk potential ( emerging safety issue) , the following reporting time limits apply: VM-ID: MU101_20_001e_WL - Wegleitung_HD - Hilfsdokument / V6.0 / dst / er / 01.04.2020 3 / 7 The signal must be reported to Swissmedic at once, and at the latest within five days, if measures for maintaining drug safety are required in the short term (e.g. informing the public immediately, market withdrawal at short notice) (Art. 62, para. 2 let. a TPO).\n",
    "A reporting time limit of 15 days is appropriate if there are other serious drug risks that are not adequately explained in the product information (Art. 62 para. 2 let. b TPO).\n",
    "It should be noted that emerging safety issues reported for a medicinal product by the MAH to the European Medicines Agency (EMA) are automatically considered, in Switzerland, to be notifiable signals with a serious risk potential, provided the medicinal product/active substance is authorised in Switzerland or an application for authorisation has been submitted to Swissmedic.\n",
    "The report of an emerging safety issue to the Agency should be accompanied by the available data on the signal in a summary assessment.\n",
    "In particular, the derived risk-minimising measures and a corresponding timetable for their implementation should also be submitted to the Agency.\n",
    "If the emerging safety issue is triggered by a single case report in Switzerland, the report of the emerging safety issue including the above-mentioned documentation should be submitted in addition to the report on the adverse drug reaction (ADR).\n",
    "Following the report of the emerging safety issue , further analyses and investigations of the signal by the marketing authorisation holder and by Swissmedic are usually needed in order to define the definitive measures for risk minimisation.\n",
    "This takes place in the context of administrative proceedings according to Art. 58 para 3 in conjunction with Art. 66 TPA.\"\"\"\n",
    "\n",
    "v2 = \"\"\"If the MAH classes a signal as a signal with a serious risk potential ( emerging safety issue) , the following reporting time limits apply: The signal must be reported to Swissmedic at once, and at the latest within five days, if measures for maintaining drug safety are required in the short term (e.g. informing the public immediately, market withdrawal at short notice) (Art. 62, para. 2 let. a TPO).\n",
    "A reporting time limit of 15 days is appropriate if there are other serious drug risks that are not adequately explained in the product information (Art. 62 para. 2 let. b TPO).\n",
    "It should be noted that emerging safety issues reported for a medicinal product by the MAH to the European Medicines Agency (EMA) are automatically considered, in Switzerland, to be notifiable signals with a serious risk potential, provided the medicinal product/active substance is authorised in Switzerland or an application for authorisation has been submitted to Swissmedic.\n",
    "Following the report of the emerging safety issue , further analyses and investigations of the signal by the MAH and by Swissmedic are usually needed, in order to define the definitive measures for risk minimisation.\n",
    "To this end, Swissmedic conducts administrative proceedings according to Art. 58 para. 3 in conjunction with Art. 66 TPA.\n",
    "The Signal Notification Form should be used for reporting safety signals. The report of an emerging safety issue to the Agency should be accompanied by all the existing available data on the signal in a summary assessment.\n",
    "In particular, the planned derived risk-minimising measures and a corresponding timetable for their implementation should also be submitted to the Agency.\n",
    "If this information is incomplete, a date by which further information will be submitted to Swissmedic should be stated.\n",
    "If the emerging safety issue is triggered by a single case report in Switzerland, the report of the emerging safety issue including the above-mentioned documentation should be submitted in addition to the report on the adverse drug reaction (ADR).\n",
    "A cross-reference to the report submitted via E2B should be appended to the signal report.\"\"\""
   ]
  },
  {
   "cell_type": "code",
   "execution_count": 9,
   "id": "404f4a15-81f2-4301-88bb-b56203dd3b2d",
   "metadata": {},
   "outputs": [],
   "source": [
    "prompt = ChatPromptTemplate.from_messages([(\"system\", instructions),\n",
    "                                           (\"user\", f\"Version_1: {v1}\\nVersion_2: {v2}\"),\n",
    "                                           MessagesPlaceholder(variable_name = \"agent_scratchpad\")])"
   ]
  },
  {
   "cell_type": "markdown",
   "id": "b407edf5-c411-4bb4-84e1-7ce51483948b",
   "metadata": {},
   "source": [
    "### OpenAI Agent"
   ]
  },
  {
   "cell_type": "code",
   "execution_count": 126,
   "id": "cbbe4bce-860c-4aae-9ab4-bd00b8869e8b",
   "metadata": {},
   "outputs": [],
   "source": [
    "agent_oai = create_openai_tools_agent(llm_oai, tools_oai, prompt)\n",
    "\n",
    "executor_oai = AgentExecutor(agent = agent_oai,\n",
    "                             tools = tools_oai,\n",
    "                             verbose = True,\n",
    "                             handle_parsing_errors = True)"
   ]
  },
  {
   "cell_type": "code",
   "execution_count": 127,
   "id": "cbadac76-8476-48f2-8d15-7377e6642bee",
   "metadata": {
    "scrolled": true
   },
   "outputs": [
    {
     "name": "stdout",
     "output_type": "stream",
     "text": [
      "\n",
      "\n",
      "\u001b[1m> Entering new AgentExecutor chain...\u001b[0m\n",
      "\u001b[32;1m\u001b[1;3m- In Version_2, the document starts with the same sentence as Version_1, but the rest of the sentence is different.\n",
      "- In Version_2, the phrase \"VM-ID: MU101_20_001e_WL - Wegleitung_HD - Hilfsdokument / V6.0 / dst / er / 01.04.2020 3 / 7\" is removed.\n",
      "- In Version_2, the sentence \"The report of an emerging safety issue to the Agency should be accompanied by the available data on the signal in a summary assessment.\" is moved to a different position in the document.\n",
      "- In Version_2, the sentence \"In particular, the derived risk-minimising measures and a corresponding timetable for their implementation should also be submitted to the Agency.\" is moved to a different position in the document.\n",
      "- In Version_2, the sentence \"Following the report of the emerging safety issue , further analyses and investigations of the signal by the marketing authorisation holder and by Swissmedic are usually needed in order to define the definitive measures for risk minimisation.\" is changed to \"Following the report of the emerging safety issue , further analyses and investigations of the signal by the MAH and by Swissmedic are usually needed, in order to define the definitive measures for risk minimisation.\"\n",
      "- In Version_2, the sentence \"This takes place in the context of administrative proceedings according to Art. 58 para 3 in conjunction with Art. 66 TPA.\" is changed to \"To this end, Swissmedic conducts administrative proceedings according to Art. 58 para. 3 in conjunction with Art. 66 TPA.\"\n",
      "- In Version_2, the sentence \"The Signal Notification Form should be used for reporting safety signals.\" is added.\n",
      "- In Version_2, the sentence \"If this information is incomplete, a date by which further information will be submitted to Swissmedic should be stated.\" is added.\n",
      "- In Version_2, the sentence \"A cross-reference to the report submitted via E2B should be appended to the signal report.\" is added.\u001b[0m\n",
      "\n",
      "\u001b[1m> Finished chain.\u001b[0m\n"
     ]
    },
    {
     "data": {
      "text/plain": [
       "{'input': '',\n",
       " 'output': '- In Version_2, the document starts with the same sentence as Version_1, but the rest of the sentence is different.\\n- In Version_2, the phrase \"VM-ID: MU101_20_001e_WL - Wegleitung_HD - Hilfsdokument / V6.0 / dst / er / 01.04.2020 3 / 7\" is removed.\\n- In Version_2, the sentence \"The report of an emerging safety issue to the Agency should be accompanied by the available data on the signal in a summary assessment.\" is moved to a different position in the document.\\n- In Version_2, the sentence \"In particular, the derived risk-minimising measures and a corresponding timetable for their implementation should also be submitted to the Agency.\" is moved to a different position in the document.\\n- In Version_2, the sentence \"Following the report of the emerging safety issue , further analyses and investigations of the signal by the marketing authorisation holder and by Swissmedic are usually needed in order to define the definitive measures for risk minimisation.\" is changed to \"Following the report of the emerging safety issue , further analyses and investigations of the signal by the MAH and by Swissmedic are usually needed, in order to define the definitive measures for risk minimisation.\"\\n- In Version_2, the sentence \"This takes place in the context of administrative proceedings according to Art. 58 para 3 in conjunction with Art. 66 TPA.\" is changed to \"To this end, Swissmedic conducts administrative proceedings according to Art. 58 para. 3 in conjunction with Art. 66 TPA.\"\\n- In Version_2, the sentence \"The Signal Notification Form should be used for reporting safety signals.\" is added.\\n- In Version_2, the sentence \"If this information is incomplete, a date by which further information will be submitted to Swissmedic should be stated.\" is added.\\n- In Version_2, the sentence \"A cross-reference to the report submitted via E2B should be appended to the signal report.\" is added.'}"
      ]
     },
     "execution_count": 127,
     "metadata": {},
     "output_type": "execute_result"
    }
   ],
   "source": [
    "executor_oai.invoke({\"input\": \"\"})"
   ]
  },
  {
   "cell_type": "markdown",
   "id": "9f2edeb9-760d-44b2-9b5c-25c50f482c04",
   "metadata": {},
   "source": [
    "# Test with multiple pairs\n",
    "\n",
    "Execute all LLM agents through the whole document"
   ]
  },
  {
   "cell_type": "code",
   "execution_count": 11,
   "id": "9ac081d3-4071-4793-a109-5fc77b016e24",
   "metadata": {},
   "outputs": [],
   "source": [
    "def build_oai_agent(v1:str, v2:str):\n",
    "    # Prepare the LLM\n",
    "    llm_oai = AzureChatOpenAI(openai_api_version = \"2023-05-15\",\n",
    "                              model_name = \"gpt-35-turbo-16k\",\n",
    "                              temperature = 0)\n",
    "\n",
    "    # Build the tools for the LLM agent\n",
    "    tools = [get_bleu_score, get_cosine_similarity_oai]\n",
    "\n",
    "    # Establish the prompt for the agent\n",
    "    prompt = ChatPromptTemplate.from_messages([(\"system\", instructions),\n",
    "                                               (\"user\", f\"V1: {v1}\\nV2: {v2}\"),\n",
    "                                               MessagesPlaceholder(variable_name = \"agent_scratchpad\")])\n",
    "\n",
    "    # Build the agent\n",
    "    agent = create_openai_tools_agent(llm_oai, tools, prompt)\n",
    "    return agent"
   ]
  },
  {
   "cell_type": "code",
   "execution_count": 12,
   "id": "a6f49c0f-a595-4a30-a2ef-c9ee89929f6f",
   "metadata": {},
   "outputs": [],
   "source": [
    "def build_gcp_agent(v1:str, v2:str, model:str):\n",
    "    # Prepare the LLM\n",
    "    llm_gemini = ChatVertexAI(model_name = model,\n",
    "                              max_output_tokens = 4000,\n",
    "                              temperature = 0)\n",
    "\n",
    "    # Build the tools for the LLM agent\n",
    "    tools = [get_bleu_score, get_cosine_similarity_gcp]\n",
    "\n",
    "    # Establish the prompt for the agent\n",
    "    prompt = ChatPromptTemplate.from_messages([(\"system\", instructions),\n",
    "                                               (\"user\", f\"V1: {v1}\\nV2: {v2}\"),\n",
    "                                               MessagesPlaceholder(variable_name = \"agent_scratchpad\")])\n",
    "\n",
    "    # Build the agent\n",
    "    gemini_tools = llm_gemini.bind_tools(tools)\n",
    "\n",
    "    agent = create_tool_calling_agent(gemini_tools, tools, prompt)\n",
    "    return agent"
   ]
  },
  {
   "cell_type": "markdown",
   "id": "9931a969-4822-4565-b6e7-206d39f8afb8",
   "metadata": {},
   "source": [
    "## Running OpenAI agent"
   ]
  },
  {
   "cell_type": "code",
   "execution_count": null,
   "id": "cc9bf27c-2130-4349-87cf-2e6df3418f95",
   "metadata": {
    "scrolled": true
   },
   "outputs": [],
   "source": [
    "oai_ans = []\n",
    "\n",
    "# Get the results from each pair of text\n",
    "for i in range(len(d1_v1)):\n",
    "    print(f\"Pair {i+1} of {len(d1_v1)}...\", end = '\\r')\n",
    "    agent_oai = build_oai_agent(d1_v1[i], d1_v2[i])\n",
    "\n",
    "    # Execute the agent\n",
    "    executor = AgentExecutor(agent = agent_oai,\n",
    "                             tools = tools_oai,\n",
    "                             verbose = True,\n",
    "                             handle_parsing_errors = True)\n",
    "\n",
    "    oai_ans.append(executor.invoke({\"input\": ''})['output'])"
   ]
  },
  {
   "cell_type": "markdown",
   "id": "10db1ecd-91f2-4cd8-98f3-897d66f6f235",
   "metadata": {},
   "source": [
    "## Call the Gemini LLM"
   ]
  },
  {
   "cell_type": "code",
   "execution_count": 13,
   "id": "819a76e3-f209-4dc1-9aaa-62d60b75535f",
   "metadata": {
    "scrolled": true
   },
   "outputs": [
    {
     "name": "stdout",
     "output_type": "stream",
     "text": [
      "Pair 30 of 30...\r"
     ]
    }
   ],
   "source": [
    "oai_ans = []\n",
    "\n",
    "for i in range(len(d1_v1)):\n",
    "    print(f\"Pair {i+1} of {len(d1_v1)}...\", end = '\\r')\n",
    "    \n",
    "    prompt = instructions + f\"\"\"\\n\\nVersion_1: '{d1_v1[i]}'\\nVersion_2: '{d1_v2[i]}'\"\"\"\n",
    "\n",
    "    oai_ans.append(llm_oai.invoke(prompt).content)"
   ]
  },
  {
   "cell_type": "code",
   "execution_count": 18,
   "id": "25e07ee8",
   "metadata": {
    "scrolled": true
   },
   "outputs": [
    {
     "name": "stdout",
     "output_type": "stream",
     "text": [
      "Pair 30 of 30...\r"
     ]
    }
   ],
   "source": [
    "gemini_15_ans = []\n",
    "\n",
    "for i in range(len(d1_v1)):\n",
    "    print(f\"Pair {i+1} of {len(d1_v1)}...\", end = '\\r')\n",
    "    \n",
    "    prompt = instructions + f\"\"\"\\n\\nVersion_1: '{d1_v1[i]}'\\nVersion_2: '{d1_v2[i]}'\"\"\"\n",
    "\n",
    "    gemini_15_ans.append(llm_gemini_15.invoke(prompt).content)\n",
    "\n",
    "    time.sleep(30)"
   ]
  },
  {
   "cell_type": "code",
   "execution_count": 19,
   "id": "f545d0a0-89cf-45d8-b178-1f2be7a6a307",
   "metadata": {
    "scrolled": true
   },
   "outputs": [
    {
     "name": "stdout",
     "output_type": "stream",
     "text": [
      "Pair 30 of 30...\r"
     ]
    }
   ],
   "source": [
    "gemini_ans = []\n",
    "\n",
    "for i in range(len(d1_v1)):\n",
    "    print(f\"Pair {i+1} of {len(d1_v1)}...\", end = '\\r')\n",
    "    \n",
    "    prompt = instructions + f\"\"\"\\n\\nVersion_1: '{d1_v1[i]}'\\nVersion_2: '{d1_v2[i]}'\"\"\"\n",
    "\n",
    "    gemini_ans.append(llm_gemini.invoke(prompt).content)"
   ]
  },
  {
   "cell_type": "code",
   "execution_count": 20,
   "id": "bc3af88f",
   "metadata": {
    "scrolled": true
   },
   "outputs": [
    {
     "name": "stdout",
     "output_type": "stream",
     "text": [
      "Pair 30 of 30...\r"
     ]
    }
   ],
   "source": [
    "palm_ans = []\n",
    "\n",
    "for i in range(len(d1_v1)):\n",
    "    print(f\"Pair {i+1} of {len(d1_v1)}...\", end = '\\r')\n",
    "    \n",
    "    prompt = instructions + f\"\"\"\\n\\nVersion_1: '{d1_v1[i]}'\\nVersion_2: '{d1_v2[i]}'\"\"\"\n",
    "\n",
    "    palm_ans.append(llm_palm.invoke(prompt))"
   ]
  },
  {
   "cell_type": "code",
   "execution_count": null,
   "id": "06a2a974",
   "metadata": {
    "scrolled": true
   },
   "outputs": [],
   "source": [
    "medlm_ans = []\n",
    "\n",
    "for i in range(len(d1_v1)):\n",
    "    print(f\"Pair {i+1} of {len(d1_v1)}...\", end = '\\r')\n",
    "    \n",
    "    prompt = instructions + f\"\"\"\\n\\nVersion_1: '{d1_v1[i]}'\\nVersion_2: '{d1_v2[i]}'\"\"\"\n",
    "\n",
    "    medlm_ans.append(llm_medlm.invoke(prompt))"
   ]
  },
  {
   "cell_type": "markdown",
   "id": "252f6cba-695c-4367-854c-bf18f2035e9e",
   "metadata": {},
   "source": [
    "## Evaluate the results"
   ]
  },
  {
   "cell_type": "code",
   "execution_count": 22,
   "id": "40781d25-1f16-4bf2-98cd-0ca611f610d2",
   "metadata": {},
   "outputs": [
    {
     "data": {
      "text/html": [
       "<div>\n",
       "<style scoped>\n",
       "    .dataframe tbody tr th:only-of-type {\n",
       "        vertical-align: middle;\n",
       "    }\n",
       "\n",
       "    .dataframe tbody tr th {\n",
       "        vertical-align: top;\n",
       "    }\n",
       "\n",
       "    .dataframe thead th {\n",
       "        text-align: right;\n",
       "    }\n",
       "</style>\n",
       "<table border=\"1\" class=\"dataframe\">\n",
       "  <thead>\n",
       "    <tr style=\"text-align: right;\">\n",
       "      <th></th>\n",
       "      <th>V1</th>\n",
       "      <th>V2</th>\n",
       "      <th>Orig_Ans</th>\n",
       "      <th>Base_comments</th>\n",
       "      <th>OAI_ans</th>\n",
       "      <th>Gemini_15_ans</th>\n",
       "      <th>Gemini_10_ans</th>\n",
       "      <th>MedLM_ans</th>\n",
       "      <th>PaLM_ans</th>\n",
       "    </tr>\n",
       "  </thead>\n",
       "  <tbody>\n",
       "    <tr>\n",
       "      <th>0</th>\n",
       "      <td>Title: Guidance document - Drug Safety Signals...</td>\n",
       "      <td>Title: HD-Guidance document\\nGuidance document...</td>\n",
       "      <td>NaN</td>\n",
       "      <td>Change not seen by the Gen AI\\nHad an impcat o...</td>\n",
       "      <td>- The title of Version_2 has been changed to '...</td>\n",
       "      <td>## Version Comparison: Drug Safety Signals Gui...</td>\n",
       "      <td>## Differences between Version_1 and Version_2...</td>\n",
       "      <td>**Summary of the most important changes betwe...</td>\n",
       "      <td>- **Title:**\\n  - Version_1: 'Guidance docume...</td>\n",
       "    </tr>\n",
       "    <tr>\n",
       "      <th>1</th>\n",
       "      <td>The duty to report drug safety signals and the...</td>\n",
       "      <td>The duty to report drug safety signals and the...</td>\n",
       "      <td>Summary of Changes between V1 and V2: \\n1. The...</td>\n",
       "      <td>Comment is meaningless\\nSection header woudm b...</td>\n",
       "      <td>- The document \"GVP Annex I - Definitions (Rev...</td>\n",
       "      <td>## Version 1 vs. Version 2: Key Differences\\n\\...</td>\n",
       "      <td>## Differences between Version_1 and Version_2...</td>\n",
       "      <td>**Summary of the most important changes betwe...</td>\n",
       "      <td>**Changes between Version_1 and Version_2:**\\...</td>\n",
       "    </tr>\n",
       "    <tr>\n",
       "      <th>2</th>\n",
       "      <td>In the context of signal and risk management, ...</td>\n",
       "      <td>In the context of signal and risk management, ...</td>\n",
       "      <td>Summary of Changes between V1 and V2:\\n1. The ...</td>\n",
       "      <td>NaN</td>\n",
       "      <td>- The abbreviation \"MAH\" is used instead of \"M...</td>\n",
       "      <td>## Version 1 vs. Version 2: Redaction Comparis...</td>\n",
       "      <td>## Differences between Version_1 and Version_2...</td>\n",
       "      <td>There are no differences between Version_1 an...</td>\n",
       "      <td>**Differences between Version_1 and Version_2...</td>\n",
       "    </tr>\n",
       "  </tbody>\n",
       "</table>\n",
       "</div>"
      ],
      "text/plain": [
       "                                                  V1  \\\n",
       "0  Title: Guidance document - Drug Safety Signals...   \n",
       "1  The duty to report drug safety signals and the...   \n",
       "2  In the context of signal and risk management, ...   \n",
       "\n",
       "                                                  V2  \\\n",
       "0  Title: HD-Guidance document\\nGuidance document...   \n",
       "1  The duty to report drug safety signals and the...   \n",
       "2  In the context of signal and risk management, ...   \n",
       "\n",
       "                                            Orig_Ans  \\\n",
       "0                                                NaN   \n",
       "1  Summary of Changes between V1 and V2: \\n1. The...   \n",
       "2  Summary of Changes between V1 and V2:\\n1. The ...   \n",
       "\n",
       "                                       Base_comments  \\\n",
       "0  Change not seen by the Gen AI\\nHad an impcat o...   \n",
       "1  Comment is meaningless\\nSection header woudm b...   \n",
       "2                                                NaN   \n",
       "\n",
       "                                             OAI_ans  \\\n",
       "0  - The title of Version_2 has been changed to '...   \n",
       "1  - The document \"GVP Annex I - Definitions (Rev...   \n",
       "2  - The abbreviation \"MAH\" is used instead of \"M...   \n",
       "\n",
       "                                       Gemini_15_ans  \\\n",
       "0  ## Version Comparison: Drug Safety Signals Gui...   \n",
       "1  ## Version 1 vs. Version 2: Key Differences\\n\\...   \n",
       "2  ## Version 1 vs. Version 2: Redaction Comparis...   \n",
       "\n",
       "                                       Gemini_10_ans  \\\n",
       "0  ## Differences between Version_1 and Version_2...   \n",
       "1  ## Differences between Version_1 and Version_2...   \n",
       "2  ## Differences between Version_1 and Version_2...   \n",
       "\n",
       "                                           MedLM_ans  \\\n",
       "0   **Summary of the most important changes betwe...   \n",
       "1   **Summary of the most important changes betwe...   \n",
       "2   There are no differences between Version_1 an...   \n",
       "\n",
       "                                            PaLM_ans  \n",
       "0   - **Title:**\\n  - Version_1: 'Guidance docume...  \n",
       "1   **Changes between Version_1 and Version_2:**\\...  \n",
       "2   **Differences between Version_1 and Version_2...  "
      ]
     },
     "execution_count": 22,
     "metadata": {},
     "output_type": "execute_result"
    }
   ],
   "source": [
    "# Build the dataframe with the results\n",
    "agent_df = pd.DataFrame(data = {\"V1\": d1_v1,\n",
    "                                \"V2\": d1_v2,\n",
    "                                \"Orig_Ans\": doc_1.iloc[:, 3],\n",
    "                                \"Base_comments\": doc_1.iloc[:, 4],\n",
    "                                \"OAI_ans\": oai_ans,\n",
    "                                \"Gemini_15_ans\": gemini_15_ans,\n",
    "                                \"Gemini_10_ans\": gemini_ans,\n",
    "                                \"MedLM_ans\": medlm_ans,\n",
    "                                \"PaLM_ans\": palm_ans})\n",
    "agent_df.head(3)"
   ]
  }
 ],
 "metadata": {
  "kernelspec": {
   "display_name": "Python 3 (ipykernel)",
   "language": "python",
   "name": "python3"
  },
  "language_info": {
   "codemirror_mode": {
    "name": "ipython",
    "version": 3
   },
   "file_extension": ".py",
   "mimetype": "text/x-python",
   "name": "python",
   "nbconvert_exporter": "python",
   "pygments_lexer": "ipython3",
   "version": "3.11.5"
  }
 },
 "nbformat": 4,
 "nbformat_minor": 5
}
